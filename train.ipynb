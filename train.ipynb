{
  "cells": [
    {
      "cell_type": "markdown",
      "metadata": {
        "colab_type": "text",
        "id": "view-in-github"
      },
      "source": [
        "<a href=\"https://colab.research.google.com/github/olivermtoth/CPROG_FINAL/blob/main/train.ipynb\" target=\"_parent\"><img src=\"https://colab.research.google.com/assets/colab-badge.svg\" alt=\"Open In Colab\"/></a>"
      ]
    },
    {
      "cell_type": "markdown",
      "metadata": {
        "id": "3a4o91yhmjTO"
      },
      "source": [
        "### Import dependencies"
      ]
    },
    {
      "cell_type": "code",
      "execution_count": 1,
      "metadata": {
        "id": "Te_6_sHamjTQ"
      },
      "outputs": [],
      "source": [
        "import tensorflow as tf\n",
        "import os\n",
        "import numpy as np\n",
        "import pandas as pd\n",
        "import pathlib"
      ]
    },
    {
      "cell_type": "markdown",
      "metadata": {
        "id": "ajgBd4zKmjTS"
      },
      "source": [
        "### Import data"
      ]
    },
    {
      "cell_type": "code",
      "execution_count": 5,
      "metadata": {
        "id": "C4_AsjK9mjTS"
      },
      "outputs": [],
      "source": [
        "data_csv =  sorted(str(p) for p in pathlib.Path('data').glob(\"*.csv\"))"
      ]
    },
    {
      "cell_type": "code",
      "execution_count": 6,
      "metadata": {
        "colab": {
          "base_uri": "https://localhost:8080/"
        },
        "id": "_rpA3YxGmjTT",
        "outputId": "9461e180-c59b-4440-8920-7c28210f4d73"
      },
      "outputs": [
        {
          "data": {
            "text/plain": [
              "39"
            ]
          },
          "execution_count": 6,
          "metadata": {},
          "output_type": "execute_result"
        }
      ],
      "source": [
        "len(data_csv)"
      ]
    },
    {
      "cell_type": "code",
      "execution_count": 17,
      "metadata": {
        "id": "yrxdIpu-mjTU"
      },
      "outputs": [],
      "source": [
        "TrainX = []\n",
        "TrainY = []\n",
        "TestX = []\n",
        "TestY = []\n",
        "ValidX = []\n",
        "ValidY = []"
      ]
    },
    {
      "cell_type": "code",
      "execution_count": 18,
      "metadata": {
        "id": "ULOr17mGmjTV"
      },
      "outputs": [],
      "source": [
        "period = 20 # days\n",
        "#TODO: Nomralization\n",
        "for file in data_csv:\n",
        "    ds = pd.read_csv(file)\n",
        "    ds = ds.iloc[:, 1:8]\n",
        "    num_row = len(ds)\n",
        "    # Normailize the dat\n",
        "    for col in ds.columns:\n",
        "      x_min = ds[col].min()\n",
        "      x_max = ds[col].max()\n",
        "      ds[col] = (ds[col] - x_min) / (x_max - x_min)\n",
        "    num_train = int(num_row*0.70) - 20\n",
        "    num_valid = int((num_row - num_train)/3)\n",
        "    num_test = num_row - (num_train + num_valid)\n",
        "    Y = ds['price']\n",
        "    X = ds.iloc[:, 0:6]\n",
        "    for i in range(num_row-20):\n",
        "        if i < num_train:\n",
        "            TrainY.append(Y.iloc[i+period])\n",
        "            TrainX.append(X.iloc[i:i+period].to_numpy())\n",
        "        elif i < num_train + num_test:\n",
        "            ValidY.append(Y.iloc[i+period])\n",
        "            ValidX.append(X.iloc[i:i+period].to_numpy())\n",
        "        else:\n",
        "            TestY.append(Y.iloc[i+period])\n",
        "            TestX.append(X.iloc[i:i+period].to_numpy())\n",
        "    break"
      ]
    },
    {
      "cell_type": "markdown",
      "metadata": {
        "id": "mHlmixjmmjTW"
      },
      "source": [
        "#### Get the size of test dataset and confirming correct datatype"
      ]
    },
    {
      "cell_type": "code",
      "execution_count": 9,
      "metadata": {
        "colab": {
          "base_uri": "https://localhost:8080/"
        },
        "id": "Rl7xNAbimjTX",
        "outputId": "68263726-89b5-4c86-a150-27c59f300b90"
      },
      "outputs": [
        {
          "name": "stdout",
          "output_type": "stream",
          "text": [
            "5876\n",
            "(20, 6)\n",
            "<class 'numpy.ndarray'>\n"
          ]
        }
      ],
      "source": [
        "print(len(TrainX)+len(ValidX)+len(TestX))\n",
        "print(TrainX[0].shape)\n",
        "print(type(TrainX[0]))"
      ]
    },
    {
      "cell_type": "markdown",
      "metadata": {
        "id": "rbxwIZokmjTY"
      },
      "source": [
        "Fun fact: We have more than 200,000 thousand days of data, which is about 548.5 years!!!"
      ]
    },
    {
      "cell_type": "markdown",
      "metadata": {
        "id": "aZl1N__6mjTZ"
      },
      "source": [
        "#### Converting arrays to Numpy array for the faster computation."
      ]
    },
    {
      "cell_type": "code",
      "execution_count": 19,
      "metadata": {
        "id": "XbKgDiUgmjTa"
      },
      "outputs": [],
      "source": [
        "TrainX = np.array(TrainX)\n",
        "TrainY = np.array(TrainY)\n",
        "TestX = np.array(TestX)\n",
        "TestY = np.array(TestY)\n",
        "ValidX = np.array(ValidX)\n",
        "ValidY = np.array(ValidY)"
      ]
    },
    {
      "cell_type": "markdown",
      "metadata": {
        "id": "mW06pbkDmjTb"
      },
      "source": [
        "#### Save datasets as csv for future use"
      ]
    },
    {
      "cell_type": "code",
      "execution_count": null,
      "metadata": {
        "id": "csopFNjGmjTb"
      },
      "outputs": [],
      "source": [
        "#TrainX.tofile('./data/TrainX.csv', sep=',')\n",
        "#TrainY.tofile('./data/TrainY.csv', sep=',')\n",
        "#TestX.tofile('./data/TestX.csv', sep=',')\n",
        "#TestY.tofile('./data/TestY.csv', sep=',')\n",
        "#ValidX.tofile('./data/ValidX.csv', sep=',')\n",
        "#ValidY.tofile('./data/ValidY.csv', sep=',')"
      ]
    },
    {
      "cell_type": "markdown",
      "metadata": {
        "id": "xWT7z8bGmjTc"
      },
      "source": [
        "#### Make model"
      ]
    },
    {
      "cell_type": "code",
      "execution_count": null,
      "metadata": {
        "id": "eoVAfB0nhPp1"
      },
      "outputs": [],
      "source": [
        "class SoftAttention(tf.keras.layers.Layer):\n",
        "    def __init__(self, units):\n",
        "        super(SoftAttention, self).__init__()\n",
        "        self.W1 = tf.keras.layers.Dense(units)\n",
        "        self.W2 = tf.keras.layers.Dense(units)\n",
        "        self.V = tf.keras.layers.Dense(1)\n",
        "\n",
        "    def call(self, features, hidden):\n",
        "        hidden_with_time_axis = tf.expand_dims(hidden, 1)\n",
        "        score = tf.nn.tanh(self.W1(features) + self.W2(hidden_with_time_axis))\n",
        "        attention_weights = tf.nn.softmax(self.V(score), axis=1)\n",
        "        context_vector = attention_weights * features\n",
        "        context_vector = tf.reduce_sum(context_vector, axis=1)\n",
        "        return context_vector, attention_weights"
      ]
    },
    {
      "cell_type": "code",
      "execution_count": 37,
      "metadata": {
        "id": "K-MdAP6GmjTc"
      },
      "outputs": [],
      "source": [
        "model = tf.keras.models.Sequential([\n",
        "    tf.keras.layers.LSTM(120, dropout=0.20, return_sequences=True, activation ='tanh'),\n",
        "    # SoftAttention(60),\n",
        "    tf.keras.layers.Dense(60, activation='tanh'),\n",
        "    tf.keras.layers.Dense(1)\n",
        "])"
      ]
    },
    {
      "cell_type": "code",
      "execution_count": 39,
      "metadata": {
        "id": "qeEAXagbmjTc"
      },
      "outputs": [],
      "source": [
        "model.compile(optimizer=tf.keras.optimizers.Adam(learning_rate=0.0001), loss='mse', metrics=[\"mae\"])"
      ]
    },
    {
      "cell_type": "code",
      "execution_count": 40,
      "metadata": {
        "colab": {
          "base_uri": "https://localhost:8080/"
        },
        "id": "z6SISI60mjTd",
        "outputId": "32642d66-595b-4b52-ca03-cf654398e0fc"
      },
      "outputs": [
        {
          "name": "stdout",
          "output_type": "stream",
          "text": [
            "Epoch 1/100\n",
            "411/411 [==============================] - 6s 8ms/step - loss: 0.0024 - mae: 0.0399 - val_loss: 0.0703 - val_mae: 0.2222\n",
            "Epoch 2/100\n",
            "411/411 [==============================] - 3s 8ms/step - loss: 0.0023 - mae: 0.0399 - val_loss: 0.0764 - val_mae: 0.2361\n",
            "Epoch 3/100\n",
            "411/411 [==============================] - 3s 8ms/step - loss: 0.0023 - mae: 0.0399 - val_loss: 0.0660 - val_mae: 0.2147\n",
            "Epoch 4/100\n",
            "411/411 [==============================] - 3s 7ms/step - loss: 0.0022 - mae: 0.0397 - val_loss: 0.0725 - val_mae: 0.2291\n",
            "Epoch 5/100\n",
            "411/411 [==============================] - 3s 8ms/step - loss: 0.0023 - mae: 0.0397 - val_loss: 0.0783 - val_mae: 0.2411\n",
            "Epoch 6/100\n",
            "411/411 [==============================] - 3s 8ms/step - loss: 0.0022 - mae: 0.0396 - val_loss: 0.0797 - val_mae: 0.2430\n",
            "Epoch 7/100\n",
            "411/411 [==============================] - 3s 8ms/step - loss: 0.0022 - mae: 0.0397 - val_loss: 0.0756 - val_mae: 0.2354\n",
            "Epoch 8/100\n",
            "411/411 [==============================] - 3s 7ms/step - loss: 0.0023 - mae: 0.0397 - val_loss: 0.0730 - val_mae: 0.2295\n",
            "Epoch 9/100\n",
            "411/411 [==============================] - 3s 7ms/step - loss: 0.0022 - mae: 0.0397 - val_loss: 0.0767 - val_mae: 0.2381\n",
            "Epoch 10/100\n",
            "411/411 [==============================] - 3s 8ms/step - loss: 0.0023 - mae: 0.0396 - val_loss: 0.0744 - val_mae: 0.2328\n",
            "Epoch 11/100\n",
            "411/411 [==============================] - 3s 8ms/step - loss: 0.0022 - mae: 0.0395 - val_loss: 0.0703 - val_mae: 0.2246\n",
            "Epoch 12/100\n",
            "411/411 [==============================] - 3s 8ms/step - loss: 0.0022 - mae: 0.0396 - val_loss: 0.0739 - val_mae: 0.2320\n",
            "Epoch 13/100\n",
            "411/411 [==============================] - 3s 8ms/step - loss: 0.0022 - mae: 0.0396 - val_loss: 0.0713 - val_mae: 0.2263\n",
            "Epoch 14/100\n",
            "411/411 [==============================] - 3s 8ms/step - loss: 0.0022 - mae: 0.0395 - val_loss: 0.0726 - val_mae: 0.2288\n",
            "Epoch 15/100\n",
            "411/411 [==============================] - 3s 8ms/step - loss: 0.0022 - mae: 0.0396 - val_loss: 0.0734 - val_mae: 0.2305\n",
            "Epoch 16/100\n",
            "411/411 [==============================] - 3s 7ms/step - loss: 0.0022 - mae: 0.0397 - val_loss: 0.0736 - val_mae: 0.2305\n",
            "Epoch 17/100\n",
            "411/411 [==============================] - 3s 8ms/step - loss: 0.0022 - mae: 0.0395 - val_loss: 0.0722 - val_mae: 0.2284\n",
            "Epoch 18/100\n",
            "411/411 [==============================] - 3s 8ms/step - loss: 0.0022 - mae: 0.0395 - val_loss: 0.0689 - val_mae: 0.2214\n",
            "Epoch 19/100\n",
            "411/411 [==============================] - 3s 8ms/step - loss: 0.0022 - mae: 0.0396 - val_loss: 0.0728 - val_mae: 0.2294\n",
            "Epoch 20/100\n",
            "411/411 [==============================] - 3s 7ms/step - loss: 0.0022 - mae: 0.0397 - val_loss: 0.0765 - val_mae: 0.2368\n",
            "Epoch 21/100\n",
            "411/411 [==============================] - 3s 7ms/step - loss: 0.0022 - mae: 0.0395 - val_loss: 0.0770 - val_mae: 0.2380\n",
            "Epoch 22/100\n",
            "411/411 [==============================] - 3s 8ms/step - loss: 0.0022 - mae: 0.0395 - val_loss: 0.0749 - val_mae: 0.2342\n",
            "Epoch 23/100\n",
            "411/411 [==============================] - 3s 8ms/step - loss: 0.0022 - mae: 0.0395 - val_loss: 0.0724 - val_mae: 0.2288\n",
            "Epoch 24/100\n",
            "411/411 [==============================] - 3s 7ms/step - loss: 0.0022 - mae: 0.0395 - val_loss: 0.0750 - val_mae: 0.2341\n",
            "Epoch 25/100\n",
            "411/411 [==============================] - 3s 7ms/step - loss: 0.0022 - mae: 0.0395 - val_loss: 0.0769 - val_mae: 0.2379\n",
            "Epoch 26/100\n",
            "411/411 [==============================] - 3s 8ms/step - loss: 0.0022 - mae: 0.0396 - val_loss: 0.0733 - val_mae: 0.2307\n",
            "Epoch 27/100\n",
            "411/411 [==============================] - 3s 8ms/step - loss: 0.0022 - mae: 0.0395 - val_loss: 0.0761 - val_mae: 0.2362\n",
            "Epoch 28/100\n",
            "411/411 [==============================] - 3s 7ms/step - loss: 0.0022 - mae: 0.0396 - val_loss: 0.0747 - val_mae: 0.2333\n",
            "Epoch 29/100\n",
            "411/411 [==============================] - 3s 8ms/step - loss: 0.0022 - mae: 0.0395 - val_loss: 0.0777 - val_mae: 0.2394\n",
            "Epoch 30/100\n",
            "411/411 [==============================] - 3s 8ms/step - loss: 0.0022 - mae: 0.0394 - val_loss: 0.0717 - val_mae: 0.2262\n",
            "Epoch 31/100\n",
            "411/411 [==============================] - 3s 8ms/step - loss: 0.0022 - mae: 0.0397 - val_loss: 0.0752 - val_mae: 0.2342\n",
            "Epoch 32/100\n",
            "411/411 [==============================] - 3s 7ms/step - loss: 0.0022 - mae: 0.0397 - val_loss: 0.0718 - val_mae: 0.2271\n",
            "Epoch 33/100\n",
            "411/411 [==============================] - 3s 7ms/step - loss: 0.0022 - mae: 0.0396 - val_loss: 0.0760 - val_mae: 0.2360\n",
            "Epoch 34/100\n",
            "411/411 [==============================] - 3s 8ms/step - loss: 0.0022 - mae: 0.0394 - val_loss: 0.0743 - val_mae: 0.2319\n",
            "Epoch 35/100\n",
            "411/411 [==============================] - 3s 8ms/step - loss: 0.0022 - mae: 0.0394 - val_loss: 0.0719 - val_mae: 0.2272\n",
            "Epoch 36/100\n",
            "411/411 [==============================] - 3s 7ms/step - loss: 0.0022 - mae: 0.0395 - val_loss: 0.0724 - val_mae: 0.2284\n",
            "Epoch 37/100\n",
            "411/411 [==============================] - 3s 7ms/step - loss: 0.0022 - mae: 0.0395 - val_loss: 0.0759 - val_mae: 0.2353\n",
            "Epoch 38/100\n",
            "411/411 [==============================] - 3s 8ms/step - loss: 0.0022 - mae: 0.0395 - val_loss: 0.0772 - val_mae: 0.2390\n",
            "Epoch 39/100\n",
            "411/411 [==============================] - 3s 8ms/step - loss: 0.0022 - mae: 0.0396 - val_loss: 0.0763 - val_mae: 0.2367\n",
            "Epoch 40/100\n",
            "411/411 [==============================] - 3s 7ms/step - loss: 0.0022 - mae: 0.0395 - val_loss: 0.0774 - val_mae: 0.2385\n",
            "Epoch 41/100\n",
            "411/411 [==============================] - 3s 7ms/step - loss: 0.0022 - mae: 0.0394 - val_loss: 0.0726 - val_mae: 0.2290\n",
            "Epoch 42/100\n",
            "411/411 [==============================] - 3s 8ms/step - loss: 0.0022 - mae: 0.0396 - val_loss: 0.0768 - val_mae: 0.2379\n",
            "Epoch 43/100\n",
            "411/411 [==============================] - 4s 9ms/step - loss: 0.0022 - mae: 0.0395 - val_loss: 0.0746 - val_mae: 0.2331\n",
            "Epoch 44/100\n",
            "411/411 [==============================] - 3s 7ms/step - loss: 0.0022 - mae: 0.0395 - val_loss: 0.0784 - val_mae: 0.2408\n",
            "Epoch 45/100\n",
            "411/411 [==============================] - 3s 8ms/step - loss: 0.0022 - mae: 0.0396 - val_loss: 0.0733 - val_mae: 0.2310\n",
            "Epoch 46/100\n",
            "411/411 [==============================] - 3s 8ms/step - loss: 0.0022 - mae: 0.0395 - val_loss: 0.0733 - val_mae: 0.2301\n",
            "Epoch 47/100\n",
            "411/411 [==============================] - 3s 8ms/step - loss: 0.0022 - mae: 0.0396 - val_loss: 0.0777 - val_mae: 0.2392\n",
            "Epoch 48/100\n",
            "411/411 [==============================] - 3s 7ms/step - loss: 0.0022 - mae: 0.0396 - val_loss: 0.0748 - val_mae: 0.2332\n",
            "Epoch 49/100\n",
            "411/411 [==============================] - 3s 7ms/step - loss: 0.0022 - mae: 0.0394 - val_loss: 0.0707 - val_mae: 0.2257\n",
            "Epoch 50/100\n",
            "411/411 [==============================] - 3s 8ms/step - loss: 0.0022 - mae: 0.0395 - val_loss: 0.0763 - val_mae: 0.2363\n",
            "Epoch 51/100\n",
            "411/411 [==============================] - 3s 8ms/step - loss: 0.0022 - mae: 0.0395 - val_loss: 0.0744 - val_mae: 0.2324\n",
            "Epoch 52/100\n",
            "411/411 [==============================] - 3s 7ms/step - loss: 0.0022 - mae: 0.0395 - val_loss: 0.0757 - val_mae: 0.2350\n",
            "Epoch 53/100\n",
            "411/411 [==============================] - 3s 8ms/step - loss: 0.0022 - mae: 0.0395 - val_loss: 0.0738 - val_mae: 0.2305\n",
            "Epoch 54/100\n",
            "411/411 [==============================] - 3s 8ms/step - loss: 0.0022 - mae: 0.0394 - val_loss: 0.0735 - val_mae: 0.2302\n",
            "Epoch 55/100\n",
            "411/411 [==============================] - 3s 8ms/step - loss: 0.0022 - mae: 0.0396 - val_loss: 0.0785 - val_mae: 0.2403\n",
            "Epoch 56/100\n",
            "411/411 [==============================] - 3s 7ms/step - loss: 0.0022 - mae: 0.0395 - val_loss: 0.0721 - val_mae: 0.2278\n",
            "Epoch 57/100\n",
            "411/411 [==============================] - 3s 7ms/step - loss: 0.0022 - mae: 0.0396 - val_loss: 0.0748 - val_mae: 0.2331\n",
            "Epoch 58/100\n",
            "411/411 [==============================] - 3s 8ms/step - loss: 0.0022 - mae: 0.0396 - val_loss: 0.0758 - val_mae: 0.2357\n",
            "Epoch 59/100\n",
            "411/411 [==============================] - 4s 9ms/step - loss: 0.0022 - mae: 0.0395 - val_loss: 0.0758 - val_mae: 0.2354\n",
            "Epoch 60/100\n",
            "411/411 [==============================] - 3s 7ms/step - loss: 0.0022 - mae: 0.0395 - val_loss: 0.0745 - val_mae: 0.2328\n",
            "Epoch 61/100\n",
            "411/411 [==============================] - 3s 7ms/step - loss: 0.0022 - mae: 0.0395 - val_loss: 0.0766 - val_mae: 0.2367\n",
            "Epoch 62/100\n",
            "411/411 [==============================] - 3s 8ms/step - loss: 0.0022 - mae: 0.0395 - val_loss: 0.0744 - val_mae: 0.2322\n",
            "Epoch 63/100\n",
            "411/411 [==============================] - 3s 8ms/step - loss: 0.0022 - mae: 0.0396 - val_loss: 0.0744 - val_mae: 0.2325\n",
            "Epoch 64/100\n",
            "411/411 [==============================] - 3s 7ms/step - loss: 0.0022 - mae: 0.0395 - val_loss: 0.0754 - val_mae: 0.2348\n",
            "Epoch 65/100\n",
            "411/411 [==============================] - 3s 8ms/step - loss: 0.0022 - mae: 0.0395 - val_loss: 0.0719 - val_mae: 0.2279\n",
            "Epoch 66/100\n",
            "411/411 [==============================] - 3s 8ms/step - loss: 0.0022 - mae: 0.0393 - val_loss: 0.0705 - val_mae: 0.2243\n",
            "Epoch 67/100\n",
            "411/411 [==============================] - 4s 9ms/step - loss: 0.0022 - mae: 0.0396 - val_loss: 0.0800 - val_mae: 0.2433\n",
            "Epoch 68/100\n",
            "411/411 [==============================] - 3s 8ms/step - loss: 0.0022 - mae: 0.0395 - val_loss: 0.0737 - val_mae: 0.2303\n",
            "Epoch 69/100\n",
            "411/411 [==============================] - 3s 7ms/step - loss: 0.0022 - mae: 0.0396 - val_loss: 0.0755 - val_mae: 0.2349\n",
            "Epoch 70/100\n",
            "411/411 [==============================] - 3s 8ms/step - loss: 0.0022 - mae: 0.0395 - val_loss: 0.0755 - val_mae: 0.2346\n",
            "Epoch 71/100\n",
            "411/411 [==============================] - 3s 8ms/step - loss: 0.0022 - mae: 0.0395 - val_loss: 0.0751 - val_mae: 0.2337\n",
            "Epoch 72/100\n",
            "411/411 [==============================] - 3s 8ms/step - loss: 0.0022 - mae: 0.0395 - val_loss: 0.0761 - val_mae: 0.2357\n",
            "Epoch 73/100\n",
            "411/411 [==============================] - 3s 8ms/step - loss: 0.0022 - mae: 0.0395 - val_loss: 0.0772 - val_mae: 0.2377\n",
            "Epoch 74/100\n",
            "411/411 [==============================] - 4s 9ms/step - loss: 0.0022 - mae: 0.0395 - val_loss: 0.0774 - val_mae: 0.2383\n",
            "Epoch 75/100\n",
            "411/411 [==============================] - 3s 8ms/step - loss: 0.0022 - mae: 0.0395 - val_loss: 0.0758 - val_mae: 0.2351\n",
            "Epoch 76/100\n",
            "411/411 [==============================] - 3s 8ms/step - loss: 0.0022 - mae: 0.0396 - val_loss: 0.0782 - val_mae: 0.2404\n",
            "Epoch 77/100\n",
            "411/411 [==============================] - 3s 7ms/step - loss: 0.0022 - mae: 0.0395 - val_loss: 0.0762 - val_mae: 0.2363\n",
            "Epoch 78/100\n",
            "411/411 [==============================] - 4s 9ms/step - loss: 0.0022 - mae: 0.0395 - val_loss: 0.0763 - val_mae: 0.2355\n",
            "Epoch 79/100\n",
            "411/411 [==============================] - 3s 7ms/step - loss: 0.0022 - mae: 0.0394 - val_loss: 0.0740 - val_mae: 0.2315\n",
            "Epoch 80/100\n",
            "411/411 [==============================] - 3s 7ms/step - loss: 0.0022 - mae: 0.0394 - val_loss: 0.0759 - val_mae: 0.2355\n",
            "Epoch 81/100\n",
            "411/411 [==============================] - 3s 7ms/step - loss: 0.0022 - mae: 0.0395 - val_loss: 0.0749 - val_mae: 0.2336\n",
            "Epoch 82/100\n",
            "411/411 [==============================] - 3s 8ms/step - loss: 0.0022 - mae: 0.0396 - val_loss: 0.0774 - val_mae: 0.2377\n",
            "Epoch 83/100\n",
            "411/411 [==============================] - 3s 7ms/step - loss: 0.0022 - mae: 0.0394 - val_loss: 0.0751 - val_mae: 0.2336\n",
            "Epoch 84/100\n",
            "411/411 [==============================] - 3s 7ms/step - loss: 0.0022 - mae: 0.0395 - val_loss: 0.0768 - val_mae: 0.2369\n",
            "Epoch 85/100\n",
            "411/411 [==============================] - 3s 7ms/step - loss: 0.0022 - mae: 0.0396 - val_loss: 0.0761 - val_mae: 0.2357\n",
            "Epoch 86/100\n",
            "411/411 [==============================] - 3s 8ms/step - loss: 0.0022 - mae: 0.0395 - val_loss: 0.0749 - val_mae: 0.2329\n",
            "Epoch 87/100\n",
            "411/411 [==============================] - 3s 7ms/step - loss: 0.0022 - mae: 0.0396 - val_loss: 0.0798 - val_mae: 0.2429\n",
            "Epoch 88/100\n",
            "411/411 [==============================] - 3s 8ms/step - loss: 0.0022 - mae: 0.0395 - val_loss: 0.0736 - val_mae: 0.2304\n",
            "Epoch 89/100\n",
            "411/411 [==============================] - 3s 7ms/step - loss: 0.0022 - mae: 0.0396 - val_loss: 0.0758 - val_mae: 0.2348\n",
            "Epoch 90/100\n",
            "411/411 [==============================] - 3s 8ms/step - loss: 0.0022 - mae: 0.0395 - val_loss: 0.0742 - val_mae: 0.2327\n",
            "Epoch 91/100\n",
            "411/411 [==============================] - 3s 8ms/step - loss: 0.0022 - mae: 0.0395 - val_loss: 0.0722 - val_mae: 0.2280\n",
            "Epoch 92/100\n",
            "411/411 [==============================] - 3s 8ms/step - loss: 0.0022 - mae: 0.0394 - val_loss: 0.0733 - val_mae: 0.2308\n",
            "Epoch 93/100\n",
            "411/411 [==============================] - 3s 7ms/step - loss: 0.0022 - mae: 0.0395 - val_loss: 0.0766 - val_mae: 0.2369\n",
            "Epoch 94/100\n",
            "411/411 [==============================] - 3s 8ms/step - loss: 0.0022 - mae: 0.0396 - val_loss: 0.0751 - val_mae: 0.2335\n",
            "Epoch 95/100\n",
            "411/411 [==============================] - 3s 8ms/step - loss: 0.0022 - mae: 0.0395 - val_loss: 0.0762 - val_mae: 0.2358\n",
            "Epoch 96/100\n",
            "411/411 [==============================] - 3s 7ms/step - loss: 0.0022 - mae: 0.0394 - val_loss: 0.0750 - val_mae: 0.2332\n",
            "Epoch 97/100\n",
            "411/411 [==============================] - 3s 7ms/step - loss: 0.0022 - mae: 0.0396 - val_loss: 0.0773 - val_mae: 0.2384\n",
            "Epoch 98/100\n",
            "411/411 [==============================] - 3s 8ms/step - loss: 0.0022 - mae: 0.0395 - val_loss: 0.0761 - val_mae: 0.2357\n",
            "Epoch 99/100\n",
            "411/411 [==============================] - 3s 7ms/step - loss: 0.0022 - mae: 0.0394 - val_loss: 0.0751 - val_mae: 0.2345\n",
            "Epoch 100/100\n",
            "411/411 [==============================] - 3s 7ms/step - loss: 0.0022 - mae: 0.0395 - val_loss: 0.0729 - val_mae: 0.2298\n"
          ]
        }
      ],
      "source": [
        "history = model.fit(x = TrainX, y = TrainY, batch_size=10, epochs=100, validation_data=(ValidX, ValidY))"
      ]
    }
  ],
  "metadata": {
    "accelerator": "GPU",
    "colab": {
      "gpuType": "T4",
      "include_colab_link": true,
      "provenance": []
    },
    "gpuClass": "standard",
    "kernelspec": {
      "display_name": "Python 3",
      "language": "python",
      "name": "python3"
    },
    "language_info": {
      "codemirror_mode": {
        "name": "ipython",
        "version": 3
      },
      "file_extension": ".py",
      "mimetype": "text/x-python",
      "name": "python",
      "nbconvert_exporter": "python",
      "pygments_lexer": "ipython3",
      "version": "3.10.4"
    },
    "orig_nbformat": 4
  },
  "nbformat": 4,
  "nbformat_minor": 0
}
