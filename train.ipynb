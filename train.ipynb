{
 "cells": [
  {
   "attachments": {},
   "cell_type": "markdown",
   "metadata": {},
   "source": [
    "### Import dependencies"
   ]
  },
  {
   "cell_type": "code",
   "execution_count": 1,
   "metadata": {},
   "outputs": [
    {
     "name": "stderr",
     "output_type": "stream",
     "text": [
      "2023-05-10 17:50:28.844403: I tensorflow/tsl/cuda/cudart_stub.cc:28] Could not find cuda drivers on your machine, GPU will not be used.\n",
      "2023-05-10 17:50:31.318557: I tensorflow/tsl/cuda/cudart_stub.cc:28] Could not find cuda drivers on your machine, GPU will not be used.\n",
      "2023-05-10 17:50:31.319509: I tensorflow/core/platform/cpu_feature_guard.cc:182] This TensorFlow binary is optimized to use available CPU instructions in performance-critical operations.\n",
      "To enable the following instructions: AVX2 AVX512F FMA, in other operations, rebuild TensorFlow with the appropriate compiler flags.\n",
      "2023-05-10 17:50:36.877382: W tensorflow/compiler/tf2tensorrt/utils/py_utils.cc:38] TF-TRT Warning: Could not find TensorRT\n"
     ]
    }
   ],
   "source": [
    "import tensorflow as tf\n",
    "import os\n",
    "import numpy as np\n",
    "import pandas as pd\n",
    "import pathlib"
   ]
  },
  {
   "attachments": {},
   "cell_type": "markdown",
   "metadata": {},
   "source": [
    "### Import data"
   ]
  },
  {
   "cell_type": "code",
   "execution_count": 2,
   "metadata": {},
   "outputs": [
    {
     "data": {
      "text/plain": [
       "['data/aapl.csv',\n",
       " 'data/abbv.csv',\n",
       " 'data/abt.csv',\n",
       " 'data/acn.csv',\n",
       " 'data/adbe.csv',\n",
       " 'data/amzn.csv',\n",
       " 'data/avgo.csv',\n",
       " 'data/bac.csv',\n",
       " 'data/cmcsa.csv',\n",
       " 'data/cost.csv',\n",
       " 'data/crm.csv',\n",
       " 'data/csco.csv',\n",
       " 'data/cvx.csv',\n",
       " 'data/dis.csv',\n",
       " 'data/googl.csv',\n",
       " 'data/hd.csv',\n",
       " 'data/jnj.csv',\n",
       " 'data/jpm.csv',\n",
       " 'data/ko.csv',\n",
       " 'data/lin.csv',\n",
       " 'data/lly.csv',\n",
       " 'data/ma.csv',\n",
       " 'data/mcd.csv',\n",
       " 'data/meta.csv',\n",
       " 'data/mrk.csv',\n",
       " 'data/msft.csv',\n",
       " 'data/nke.csv',\n",
       " 'data/nvda.csv',\n",
       " 'data/pep.csv',\n",
       " 'data/pfe.csv',\n",
       " 'data/pg.csv',\n",
       " 'data/tmo.csv',\n",
       " 'data/tsla.csv',\n",
       " 'data/unh.csv',\n",
       " 'data/v.csv',\n",
       " 'data/vz.csv',\n",
       " 'data/wmt.csv',\n",
       " 'data/xom.csv']"
      ]
     },
     "execution_count": 2,
     "metadata": {},
     "output_type": "execute_result"
    }
   ],
   "source": [
    "data_csv =  sorted(str(p) for p in pathlib.Path('data').glob(\"*.csv\"))\n",
    "data_csv"
   ]
  },
  {
   "cell_type": "code",
   "execution_count": 3,
   "metadata": {},
   "outputs": [
    {
     "data": {
      "text/plain": [
       "38"
      ]
     },
     "execution_count": 3,
     "metadata": {},
     "output_type": "execute_result"
    }
   ],
   "source": [
    "len(data_csv)"
   ]
  },
  {
   "cell_type": "code",
   "execution_count": 4,
   "metadata": {},
   "outputs": [],
   "source": [
    "TrainX = []\n",
    "TrainY = []\n",
    "TestX = []\n",
    "TestY = []\n",
    "ValidX = []\n",
    "ValidY = []"
   ]
  },
  {
   "cell_type": "code",
   "execution_count": 9,
   "metadata": {},
   "outputs": [
    {
     "name": "stdout",
     "output_type": "stream",
     "text": [
      "data/aapl.csv\n",
      "5892\n",
      "Unnamed: 0      2023-05-08\n",
      "price                173.5\n",
      "volume          55962793.0\n",
      "rsi               67.42951\n",
      "macd              2.897693\n",
      "adx              33.451421\n",
      "obv           4176464089.0\n",
      "Name: 0, dtype: object\n"
     ]
    }
   ],
   "source": [
    "period = 20 # days\n",
    "#TODO: Nomralization\n",
    "for file in data_csv:\n",
    "    ds = pd.read_csv(file)\n",
    "    num_row = len(ds)\n",
    "    num_train = int(num_row*0.70) - 20\n",
    "    num_valid = int((num_row - num_train)/3)\n",
    "    num_test = num_row - (num_train + num_valid)\n",
    "    Y = ds['price']\n",
    "    X = ds.iloc[:, 2:7]\n",
    "    # print(X.head())\n",
    "    for i in range(num_row-20):\n",
    "        \n",
    "        if i < num_train:\n",
    "            TrainY.append(Y.iloc[i+period])\n",
    "            print(type(X.iloc[i:i+period]))\n",
    "            X_i = X.iloc[i:i+period].to_numpy()\n",
    "            print(type(X_i))\n",
    "            print(X_i)\n",
    "            TrainX.append(X_i)\n",
    "            break\n",
    "        elif i < num_train + num_test:\n",
    "            ValidY.append(Y.iloc[i+period])\n",
    "            ValidX.append(X.iloc[i:i+period].to_numpy())\n",
    "        else:\n",
    "            TestY.append(Y.iloc[i+period])\n",
    "            TestX.append(X.iloc[i:i+period].to_numpy())\n",
    "    break"
   ]
  }
 ],
 "metadata": {
  "kernelspec": {
   "display_name": "Python 3",
   "language": "python",
   "name": "python3"
  },
  "language_info": {
   "codemirror_mode": {
    "name": "ipython",
    "version": 3
   },
   "file_extension": ".py",
   "mimetype": "text/x-python",
   "name": "python",
   "nbconvert_exporter": "python",
   "pygments_lexer": "ipython3",
   "version": "3.10.4"
  },
  "orig_nbformat": 4
 },
 "nbformat": 4,
 "nbformat_minor": 2
}
